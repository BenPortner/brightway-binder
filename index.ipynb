{
 "cells": [
  {
   "cell_type": "markdown",
   "id": "b22b1323",
   "metadata": {},
   "source": [
    "# Your brightway2 project\n",
    "\n",
    "This is a Juypter notebook running Python 3.6. It has numpy and brightway2 installed in the background. Feel free to try them out!"
   ]
  },
  {
   "cell_type": "code",
   "execution_count": null,
   "id": "420bcd74",
   "metadata": {},
   "outputs": [],
   "source": [
    "import brightway2 as bw\n",
    "\n",
    "# your brightway code here"
   ]
  }
 ],
 "metadata": {
  "kernelspec": {
   "display_name": "Python 3",
   "language": "python",
   "name": "python3"
  },
  "latex_envs": {
   "LaTeX_envs_menu_present": true,
   "autoclose": false,
   "autocomplete": true,
   "bibliofile": "biblio.bib",
   "cite_by": "apalike",
   "current_citInitial": 1,
   "eqLabelWithNumbers": true,
   "eqNumInitial": 1,
   "hotkeys": {
    "equation": "Ctrl-E",
    "itemize": "Ctrl-I"
   },
   "labels_anchors": false,
   "latex_user_defs": false,
   "report_style_numbering": false,
   "user_envs_cfg": false
  },
  "toc": {
   "base_numbering": 1,
   "nav_menu": {},
   "number_sections": true,
   "sideBar": true,
   "skip_h1_title": true,
   "title_cell": "Table of Contents",
   "title_sidebar": "Contents",
   "toc_cell": false,
   "toc_position": {},
   "toc_section_display": true,
   "toc_window_display": true
  }
 },
 "nbformat": 4,
 "nbformat_minor": 5
}
